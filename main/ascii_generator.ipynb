{
 "cells": [
  {
   "cell_type": "code",
   "execution_count": null,
   "metadata": {},
   "outputs": [],
   "source": [
    "import numpy as np\n",
    "import os\n",
    "from PIL import Image\n",
    "from time import time\n",
    "import tensorflow as tf"
   ]
  },
  {
   "cell_type": "code",
   "execution_count": null,
   "metadata": {},
   "outputs": [],
   "source": [
    "path = ''"
   ]
  },
  {
   "cell_type": "code",
   "execution_count": null,
   "metadata": {},
   "outputs": [],
   "source": [
    "# ordered gray scale character list\n",
    "gscale = \"$@B%8&WM#*oahkbdpqwmZO0QLCJUYXzcvunxrjft/\\|()1{}[]?-_+~<>i!lI;:,\\\"^`'. \"\n",
    "\n",
    "# convert grey scale to dict to speed up look up, invert it for negative images\n",
    "gs_dict = {index: value for (index, value) in enumerate(gscale)}\n",
    "gs_dict_inv = {index: value for (index, value) in enumerate(reversed(gscale))}"
   ]
  },
  {
   "cell_type": "code",
   "execution_count": null,
   "metadata": {},
   "outputs": [],
   "source": [
    "def avg_brightness(image_array):\n",
    "    return int(np.average(image_array, axis=None))"
   ]
  },
  {
   "cell_type": "code",
   "execution_count": null,
   "metadata": {},
   "outputs": [],
   "source": [
    "def convert_to_gs(image_array):\n",
    "    return np.mean(np.asarray(image_array), axis=2)"
   ]
  },
  {
   "cell_type": "code",
   "execution_count": null,
   "metadata": {},
   "outputs": [],
   "source": [
    "def timer(func):\n",
    "    def wrap_func(*args, **kwargs):\n",
    "        t1 = time()\n",
    "        result = func(*args, **kwargs)\n",
    "        t2 = time()\n",
    "        print(f'Image generated in {(t2-t1):.4f}s')\n",
    "        return result\n",
    "    return wrap_func"
   ]
  },
  {
   "cell_type": "code",
   "execution_count": null,
   "metadata": {},
   "outputs": [],
   "source": [
    "@timer\n",
    "def ascii_conv(image, kernel_size, output, invert: bool, negative: bool):\n",
    "    # take in the image and transform it into an array\n",
    "    image_array = convert_to_gs(np.array(image))\n",
    "\n",
    "    if invert:\n",
    "        if image_array.shape[1] > image_array.shape[0]:\n",
    "            image_array = image_array.T\n",
    "\n",
    "    # reshape the image so it is a valid 4D tensor for pooling\n",
    "    image_array = image_array.reshape(\n",
    "        1, image_array.shape[0], image_array.shape[1], 1)\n",
    "\n",
    "    # average a neighborhood of pixels to get the luminosity of each tile\n",
    "    avg_pool_2d = tf.keras.layers.AveragePooling2D(pool_size=(\n",
    "        kernel_size, kernel_size), strides=None, padding='valid')\n",
    "    luminosity_array = np.asarray(avg_pool_2d(image_array))\n",
    "\n",
    "    # map luminosity values to chars in grayscale list\n",
    "    if negative:\n",
    "        def char_map(i): return gs_dict_inv[int((i*69)/255)]\n",
    "    else:\n",
    "        def char_map(i): return gs_dict[int((i*69)/255)]\n",
    "\n",
    "    mapping_function = np.vectorize(char_map)\n",
    "    ascii_array = np.squeeze(mapping_function(luminosity_array))\n",
    "\n",
    "    # return the ascii array as text\n",
    "    return np.savetxt(f'output/{output}', ascii_array, fmt='%c')"
   ]
  },
  {
   "cell_type": "code",
   "execution_count": null,
   "metadata": {},
   "outputs": [],
   "source": [
    "def main(kernel_size, invert=None, negative=None):\n",
    "    # load and lazily store images\n",
    "    images = []\n",
    "    for file in os.listdir(path):\n",
    "        fname, ftype = file.split('.')\n",
    "        if fname != '' and ftype == 'jpeg':\n",
    "            images.append((Image.open(f'{path}/{file}'), fname))\n",
    "\n",
    "    for i, image_tuple in enumerate(images):\n",
    "        print('-'*100)\n",
    "        print(f'Image {i + 1} of {len(images)} loading:')\n",
    "        print(f'{image_tuple[1]}, of size {image_tuple[0].size} rendering...')\n",
    "        ascii_conv(image_tuple[0], kernel_size,\n",
    "                    f'{image_tuple[1]}_ascii.txt', invert, negative)\n",
    "        print(f'ASCII art written to output/{image_tuple[1]}_ascii.txt')\n"
   ]
  },
  {
   "cell_type": "code",
   "execution_count": null,
   "metadata": {},
   "outputs": [],
   "source": [
    "main(5, invert=False, negative=True)"
   ]
  }
 ],
 "metadata": {
  "language_info": {
   "name": "python"
  },
  "orig_nbformat": 4
 },
 "nbformat": 4,
 "nbformat_minor": 2
}
