{
 "cells": [
  {
   "cell_type": "code",
   "execution_count": 4,
   "metadata": {},
   "outputs": [],
   "source": [
    "import numpy as np\n",
    "import os\n",
    "from PIL import Image\n",
    "from time import time\n",
    "# import tensorflow as tf\n",
    "from tensorflow.keras.layers import AveragePooling2D"
   ]
  },
  {
   "cell_type": "code",
   "execution_count": 6,
   "metadata": {},
   "outputs": [],
   "source": [
    "# os.mkdir('~/images')\n",
    "# os.mkdir('~/output')\n",
    "# path = ''"
   ]
  },
  {
   "cell_type": "code",
   "execution_count": 7,
   "metadata": {},
   "outputs": [],
   "source": [
    "# ordered gray scale character list\n",
    "gscale = \"$@B%8&WM#*oahkbdpqwmZO0QLCJUYXzcvunxrjft/\\|()1{}[]?-_+~<>i!lI;:,\\\"^`'. \"\n",
    "\n",
    "# convert grey scale to dict to speed up look up, invert it for negative images\n",
    "gs_dict = {index: value for (index, value) in enumerate(gscale)}\n",
    "gs_dict_inv = {index: value for (index, value) in enumerate(reversed(gscale))}"
   ]
  },
  {
   "cell_type": "code",
   "execution_count": 8,
   "metadata": {},
   "outputs": [],
   "source": [
    "def avg_brightness(image_array):\n",
    "    return int(np.average(image_array, axis=None))"
   ]
  },
  {
   "cell_type": "code",
   "execution_count": 9,
   "metadata": {},
   "outputs": [],
   "source": [
    "def convert_to_gs(image_array):\n",
    "    return np.mean(np.asarray(image_array), axis=2)"
   ]
  },
  {
   "cell_type": "code",
   "execution_count": 10,
   "metadata": {},
   "outputs": [],
   "source": [
    "def timer(func):\n",
    "    def wrap_func(*args, **kwargs):\n",
    "        t1 = time()\n",
    "        result = func(*args, **kwargs)\n",
    "        t2 = time()\n",
    "        print(f'Image generated in {(t2-t1):.4f}s')\n",
    "        return result\n",
    "    return wrap_func"
   ]
  },
  {
   "cell_type": "code",
   "execution_count": 11,
   "metadata": {},
   "outputs": [],
   "source": [
    "@timer\n",
    "def ascii_conv(image, kernel_size, output, invert: bool, negative: bool):\n",
    "    # take in the image and transform it into an array\n",
    "    image_array = convert_to_gs(np.array(image))\n",
    "\n",
    "    if invert:\n",
    "        if image_array.shape[1] > image_array.shape[0]:\n",
    "            image_array = image_array.T\n",
    "\n",
    "    # reshape the image so it is a valid 4D tensor for pooling\n",
    "    image_array = image_array.reshape(\n",
    "        1, image_array.shape[0], image_array.shape[1], 1)\n",
    "\n",
    "    # average a neighborhood of pixels to get the luminosity of each tile\n",
    "    avg_pool_2d = tf.keras.layers.AveragePooling2D(pool_size=(\n",
    "        kernel_size, kernel_size), strides=None, padding='valid')\n",
    "    luminosity_array = np.asarray(avg_pool_2d(image_array))\n",
    "\n",
    "    # map luminosity values to chars in grayscale list\n",
    "    if negative:\n",
    "        def char_map(i): return gs_dict_inv[int((i*69)/255)]\n",
    "    else:\n",
    "        def char_map(i): return gs_dict[int((i*69)/255)]\n",
    "\n",
    "    mapping_function = np.vectorize(char_map)\n",
    "    ascii_array = np.squeeze(mapping_function(luminosity_array))\n",
    "\n",
    "    # return the ascii array as text\n",
    "    return np.savetxt(f'output/{output}', ascii_array, fmt='%c')"
   ]
  },
  {
   "cell_type": "code",
   "execution_count": 12,
   "metadata": {},
   "outputs": [],
   "source": [
    "def main(kernel_size, invert=None, negative=None):\n",
    "    # load and lazily store images\n",
    "    images = []\n",
    "    for file in os.listdir(path):\n",
    "        fname, ftype = file.split('.')\n",
    "        if fname != '' and ftype == 'jpeg':\n",
    "            images.append((Image.open(f'{path}/{file}'), fname))\n",
    "\n",
    "    for i, image_tuple in enumerate(images):\n",
    "        print('-'*100)\n",
    "        print(f'Image {i + 1} of {len(images)} loading:')\n",
    "        print(f'{image_tuple[1]}, of size {image_tuple[0].size} rendering...')\n",
    "        ascii_conv(image_tuple[0], kernel_size,\n",
    "                    f'{image_tuple[1]}_ascii.txt', invert, negative)\n",
    "        print(f'ASCII art written to output/{image_tuple[1]}_ascii.txt')\n"
   ]
  },
  {
   "cell_type": "code",
   "execution_count": 13,
   "metadata": {},
   "outputs": [
    {
     "ename": "NameError",
     "evalue": "name 'path' is not defined",
     "output_type": "error",
     "traceback": [
      "\u001b[0;31m---------------------------------------------------------------------------\u001b[0m",
      "\u001b[0;31mNameError\u001b[0m                                 Traceback (most recent call last)",
      "\u001b[1;32m/Users/harrisonward/Desktop/CS/Git/pixelator/main/ascii_generator.ipynb Cell 9\u001b[0m in \u001b[0;36m<module>\u001b[0;34m\u001b[0m\n\u001b[0;32m----> <a href='vscode-notebook-cell:/Users/harrisonward/Desktop/CS/Git/pixelator/main/ascii_generator.ipynb#X10sZmlsZQ%3D%3D?line=0'>1</a>\u001b[0m main(\u001b[39m5\u001b[39;49m, invert\u001b[39m=\u001b[39;49m\u001b[39mFalse\u001b[39;49;00m, negative\u001b[39m=\u001b[39;49m\u001b[39mTrue\u001b[39;49;00m)\n",
      "\u001b[1;32m/Users/harrisonward/Desktop/CS/Git/pixelator/main/ascii_generator.ipynb Cell 9\u001b[0m in \u001b[0;36mmain\u001b[0;34m(kernel_size, invert, negative)\u001b[0m\n\u001b[1;32m      <a href='vscode-notebook-cell:/Users/harrisonward/Desktop/CS/Git/pixelator/main/ascii_generator.ipynb#X10sZmlsZQ%3D%3D?line=0'>1</a>\u001b[0m \u001b[39mdef\u001b[39;00m \u001b[39mmain\u001b[39m(kernel_size, invert\u001b[39m=\u001b[39m\u001b[39mNone\u001b[39;00m, negative\u001b[39m=\u001b[39m\u001b[39mNone\u001b[39;00m):\n\u001b[1;32m      <a href='vscode-notebook-cell:/Users/harrisonward/Desktop/CS/Git/pixelator/main/ascii_generator.ipynb#X10sZmlsZQ%3D%3D?line=1'>2</a>\u001b[0m     \u001b[39m# load and lazily store images\u001b[39;00m\n\u001b[1;32m      <a href='vscode-notebook-cell:/Users/harrisonward/Desktop/CS/Git/pixelator/main/ascii_generator.ipynb#X10sZmlsZQ%3D%3D?line=2'>3</a>\u001b[0m     images \u001b[39m=\u001b[39m []\n\u001b[0;32m----> <a href='vscode-notebook-cell:/Users/harrisonward/Desktop/CS/Git/pixelator/main/ascii_generator.ipynb#X10sZmlsZQ%3D%3D?line=3'>4</a>\u001b[0m     \u001b[39mfor\u001b[39;00m file \u001b[39min\u001b[39;00m os\u001b[39m.\u001b[39mlistdir(path):\n\u001b[1;32m      <a href='vscode-notebook-cell:/Users/harrisonward/Desktop/CS/Git/pixelator/main/ascii_generator.ipynb#X10sZmlsZQ%3D%3D?line=4'>5</a>\u001b[0m         fname, ftype \u001b[39m=\u001b[39m file\u001b[39m.\u001b[39msplit(\u001b[39m'\u001b[39m\u001b[39m.\u001b[39m\u001b[39m'\u001b[39m)\n\u001b[1;32m      <a href='vscode-notebook-cell:/Users/harrisonward/Desktop/CS/Git/pixelator/main/ascii_generator.ipynb#X10sZmlsZQ%3D%3D?line=5'>6</a>\u001b[0m         \u001b[39mif\u001b[39;00m fname \u001b[39m!=\u001b[39m \u001b[39m'\u001b[39m\u001b[39m'\u001b[39m \u001b[39mand\u001b[39;00m ftype \u001b[39m==\u001b[39m \u001b[39m'\u001b[39m\u001b[39mjpeg\u001b[39m\u001b[39m'\u001b[39m:\n",
      "\u001b[0;31mNameError\u001b[0m: name 'path' is not defined"
     ]
    }
   ],
   "source": [
    "main(5, invert=False, negative=True)"
   ]
  }
 ],
 "metadata": {
  "kernelspec": {
   "display_name": "cs109b",
   "language": "python",
   "name": "python3"
  },
  "language_info": {
   "codemirror_mode": {
    "name": "ipython",
    "version": 3
   },
   "file_extension": ".py",
   "mimetype": "text/x-python",
   "name": "python",
   "nbconvert_exporter": "python",
   "pygments_lexer": "ipython3",
   "version": "3.9.9"
  },
  "orig_nbformat": 4
 },
 "nbformat": 4,
 "nbformat_minor": 2
}
