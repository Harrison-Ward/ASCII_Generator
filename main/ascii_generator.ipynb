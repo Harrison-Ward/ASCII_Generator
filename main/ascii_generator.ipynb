{
 "cells": [
  {
   "cell_type": "code",
   "execution_count": 14,
   "metadata": {},
   "outputs": [],
   "source": [
    "import numpy as np\n",
    "import os\n",
    "from PIL import Image\n",
    "from time import time\n",
    "\n",
    "# import tensorflow as tf\n",
    "from tensorflow.keras.layers import AveragePooling2D"
   ]
  },
  {
   "attachments": {},
   "cell_type": "markdown",
   "metadata": {},
   "source": [
    "### Load Your Pictures into the Images Folder\n",
    "\n",
    "The images folder is where the code will look for pictures to generate the ASCII versions of. The final output will be written to the output folder. Input images will be converted to JPEG files but it is preferable to upload native JPEG images first.\n",
    "\n",
    "Once the ASCII \"images\" are written to a txt file, you can download them and view them in a .txt file editor like Text Edit. If you have chosen a small kernel size, you will need to zoom out a fair bit to view the entire image.\n",
    "\n",
    "If the code is run multiple times, the code will not remake the directories."
   ]
  },
  {
   "cell_type": "code",
   "execution_count": 15,
   "metadata": {},
   "outputs": [
    {
     "name": "stdout",
     "output_type": "stream",
     "text": [
      "output directory already exists\n"
     ]
    }
   ],
   "source": [
    "try:\n",
    "    os.mkdir(\"images\")\n",
    "except FileExistsError:\n",
    "    print(\"Images directory already exists\")\n",
    "\n",
    "try:\n",
    "    os.mkdir(\"output\")\n",
    "except FileExistsError:\n",
    "    print(\"Output directory already exists\")\n",
    "\n",
    "input_path = \"images\"\n",
    "output_path = \"output\""
   ]
  },
  {
   "attachments": {},
   "cell_type": "markdown",
   "metadata": {},
   "source": [
    "The input files will be converted to .jpeg files"
   ]
  },
  {
   "cell_type": "code",
   "execution_count": null,
   "metadata": {},
   "outputs": [],
   "source": [
    "for file in os.listdir(input_path):\n",
    "    fname, ftype = file.split(\".\")\n",
    "    if fname != \"\" and ftype != \"jpeg\":\n",
    "        file = os.rename(f\"{input_path}/{file}\", f\"{input_path}/{fname}.jpeg\")"
   ]
  },
  {
   "cell_type": "code",
   "execution_count": 16,
   "metadata": {},
   "outputs": [],
   "source": [
    "# ordered gray scale character list\n",
    "gscale = \"$@B%8&WM#*oahkbdpqwmZO0QLCJUYXzcvunxrjft/\\|()1{}[]?-_+~<>i!lI;:,\\\"^`'. \"\n",
    "\n",
    "# convert grey scale to dict to speed up look up, invert it for negative images\n",
    "gs_dict = {index: value for (index, value) in enumerate(gscale)}\n",
    "gs_dict_inv = {index: value for (index, value) in enumerate(reversed(gscale))}\n"
   ]
  },
  {
   "attachments": {},
   "cell_type": "markdown",
   "metadata": {},
   "source": [
    "This function converts the image to grayscale by averaging the RGB channels of the raw image matrix."
   ]
  },
  {
   "cell_type": "code",
   "execution_count": 18,
   "metadata": {},
   "outputs": [],
   "source": [
    "def convert_to_gs(image_array):\n",
    "    return np.mean(np.asarray(image_array), axis=2)\n"
   ]
  },
  {
   "attachments": {},
   "cell_type": "markdown",
   "metadata": {},
   "source": [
    "This timer decorator, written by GeeksforGeeks, measures the wall clock time to generate an image. It takes anywhere from 0.5 to 2 seconds depending on the size of the image and the kernel."
   ]
  },
  {
   "cell_type": "code",
   "execution_count": 19,
   "metadata": {},
   "outputs": [],
   "source": [
    "def timer(func):\n",
    "    def wrap_func(*args, **kwargs):\n",
    "        t1 = time()\n",
    "        result = func(*args, **kwargs)\n",
    "        t2 = time()\n",
    "        print(f\"Image generated in {(t2-t1):.4f}s\")\n",
    "        return result\n",
    "\n",
    "    return wrap_func"
   ]
  },
  {
   "attachments": {},
   "cell_type": "markdown",
   "metadata": {},
   "source": [
    "This function converts the image to the final ASCII output, conditional on the size of the kernel. The kernel maps the number of pixels that correspond to each ASCII character. Large kernel sizes result in less detail, small kernel sizes, more detail. "
   ]
  },
  {
   "cell_type": "code",
   "execution_count": 20,
   "metadata": {},
   "outputs": [],
   "source": [
    "@timer\n",
    "def ascii_conv(image, kernel_size, output, invert: bool, negative: bool):\n",
    "    # take in the image and transform it into an array\n",
    "    image_array = convert_to_gs(np.array(image))\n",
    "\n",
    "    if invert:\n",
    "        if image_array.shape[1] > image_array.shape[0]:\n",
    "            image_array = image_array.T\n",
    "\n",
    "    # reshape the image so it is a valid 4D tensor for pooling\n",
    "    image_array = image_array.reshape(1, image_array.shape[0], image_array.shape[1], 1)\n",
    "\n",
    "    # average a neighborhood of pixels to get the luminosity of each tile\n",
    "    avg_pool_2d = AveragePooling2D(\n",
    "        pool_size=(kernel_size, kernel_size), strides=None, padding=\"valid\"\n",
    "    )\n",
    "    luminosity_array = np.asarray(avg_pool_2d(image_array))\n",
    "\n",
    "    # map luminosity values to chars in grayscale list\n",
    "    if negative:\n",
    "\n",
    "        def char_map(i):\n",
    "            return gs_dict_inv[int((i * 69) / 255)]\n",
    "\n",
    "    else:\n",
    "\n",
    "        def char_map(i):\n",
    "            return gs_dict[int((i * 69) / 255)]\n",
    "\n",
    "    mapping_function = np.vectorize(char_map)\n",
    "    ascii_array = np.squeeze(mapping_function(luminosity_array))\n",
    "\n",
    "    # return the ascii array as text\n",
    "    return np.savetxt(f\"{output_path}/{output}\", ascii_array, fmt=\"%c\")"
   ]
  },
  {
   "attachments": {},
   "cell_type": "markdown",
   "metadata": {},
   "source": [
    "The main function creates a list of input images to translate into ASCII output. Once the ASCII image is generated it will be written to the output folder, from there you can download it, open it with Text Edit on Mac or similar software on your OS and view the ASCII art. \n",
    "\n",
    "Note that when the kernel_size is quite small, images will take longer to render and may require a lot of zooming out to view the entire image.\n",
    "\n",
    "A kernel size of 5 will create highly detailed images, whereas kernels around 15-25 will create classic ASCII style images."
   ]
  },
  {
   "cell_type": "code",
   "execution_count": 21,
   "metadata": {},
   "outputs": [],
   "source": [
    "def main(kernel_size=10, invert=None, negative=None):\n",
    "    if kernel_size < 3:\n",
    "        print(\n",
    "            \"WARNING: The minimum suggested kernel size is 3.\\nSmaller kernel sizes will result in improperly rendered images.\\nSuggested kernel sizes are between 5-25, depending on the size of the image and the desired level of detail.\"\n",
    "        )\n",
    "    # load and lazily store images\n",
    "    images = []\n",
    "    for file in os.listdir(input_path):\n",
    "        fname, ftype = file.split(\".\")\n",
    "        if fname != \"\" and ftype == \"jpeg\":\n",
    "            images.append((Image.open(f\"{input_path}/{file}\"), fname))\n",
    "\n",
    "    for i, image_tuple in enumerate(images):\n",
    "        print(\"-\" * 100)\n",
    "        print(f\"Image {i + 1} of {len(images)} loading:\")\n",
    "        print(f\"{image_tuple[1]}, of size {image_tuple[0].size} rendering...\")\n",
    "        ascii_conv(\n",
    "            image_tuple[0], kernel_size, f\"{image_tuple[1]}_ascii.txt\", invert, negative\n",
    "        )\n",
    "        print(f\"ASCII art written to {output_path}/{image_tuple[1]}_ascii.txt\")"
   ]
  },
  {
   "cell_type": "code",
   "execution_count": 22,
   "metadata": {},
   "outputs": [],
   "source": [
    "main(5, invert=False, negative=True)\n"
   ]
  }
 ],
 "metadata": {
  "kernelspec": {
   "display_name": "cs109b",
   "language": "python",
   "name": "python3"
  },
  "language_info": {
   "codemirror_mode": {
    "name": "ipython",
    "version": 3
   },
   "file_extension": ".py",
   "mimetype": "text/x-python",
   "name": "python",
   "nbconvert_exporter": "python",
   "pygments_lexer": "ipython3",
   "version": "3.9.9"
  },
  "orig_nbformat": 4
 },
 "nbformat": 4,
 "nbformat_minor": 2
}
