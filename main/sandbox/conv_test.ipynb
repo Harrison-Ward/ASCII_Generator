{
 "cells": [
  {
   "attachments": {},
   "cell_type": "markdown",
   "metadata": {},
   "source": [
    "Notebook to test image convolution, loading, transforms, etc"
   ]
  },
  {
   "cell_type": "code",
   "execution_count": 98,
   "metadata": {},
   "outputs": [],
   "source": [
    "# import numpy as np\n",
    "import os\n",
    "# from PIL import Image\n",
    "\n",
    "from matplotlib import image\n",
    "from matplotlib import pyplot"
   ]
  },
  {
   "cell_type": "code",
   "execution_count": 99,
   "metadata": {},
   "outputs": [
    {
     "name": "stdout",
     "output_type": "stream",
     "text": [
      "IMG_2012.jpeg\n",
      "_DSC6014.jpeg\n",
      "FullSizeRender.jpeg\n"
     ]
    }
   ],
   "source": [
    "# print list of available images\n",
    "path = '/Users/harrisonward/Desktop/CS/Git/pixelator/assets'\n",
    "for file in os.listdir(path):\n",
    "    fname, ftype = file.split('.')\n",
    "    if fname != '' and ftype == 'jpeg':\n",
    "        print(file)"
   ]
  },
  {
   "cell_type": "code",
   "execution_count": 101,
   "metadata": {},
   "outputs": [],
   "source": [
    "# store \n",
    "images = []\n",
    "for file in os.listdir(path):\n",
    "    fname, ftype = file.split('.')\n",
    "    if fname != '' and ftype == 'jpeg':\n",
    "        images.append(Image.open(f'{path}/{file}'))"
   ]
  }
 ],
 "metadata": {
  "kernelspec": {
   "display_name": "cs109b",
   "language": "python",
   "name": "python3"
  },
  "language_info": {
   "codemirror_mode": {
    "name": "ipython",
    "version": 3
   },
   "file_extension": ".py",
   "mimetype": "text/x-python",
   "name": "python",
   "nbconvert_exporter": "python",
   "pygments_lexer": "ipython3",
   "version": "3.9.9"
  },
  "orig_nbformat": 4
 },
 "nbformat": 4,
 "nbformat_minor": 2
}
