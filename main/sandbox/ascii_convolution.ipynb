{
 "cells": [
  {
   "cell_type": "code",
   "execution_count": 34,
   "metadata": {},
   "outputs": [],
   "source": [
    "import numpy as np\n",
    "import os\n",
    "from PIL import Image, ImageOps\n",
    "from matplotlib import pyplot as plt\n",
    "from scipy import signal"
   ]
  },
  {
   "cell_type": "code",
   "execution_count": 35,
   "metadata": {},
   "outputs": [],
   "source": [
    "path = '/Users/harrisonward/Desktop/CS/Git/pixelator/assets'\n",
    "gscale1 = \"$@B%8&WM#*oahkbdpqwmZO0QLCJUYXzcvunxrjft/\\|()1{}[]?-_+~<>i!lI;:,\\\"^`'. \""
   ]
  },
  {
   "cell_type": "code",
   "execution_count": 36,
   "metadata": {},
   "outputs": [
    {
     "name": "stdout",
     "output_type": "stream",
     "text": [
      "IMG_2012.jpeg\n",
      "IMG_8737.jpeg\n",
      "IMG_8740.jpeg\n",
      "_DSC6014.jpeg\n",
      "FullSizeRender.jpeg\n"
     ]
    }
   ],
   "source": [
    "# store lazily rendered images\n",
    "images = []\n",
    "for file in os.listdir(path):\n",
    "    fname, ftype = file.split('.')\n",
    "    if fname != '' and ftype == 'jpeg':\n",
    "        print(file)\n",
    "        images.append(Image.open(f'{path}/{file}'))"
   ]
  },
  {
   "cell_type": "code",
   "execution_count": 37,
   "metadata": {},
   "outputs": [],
   "source": [
    "def avg_brightness(image_array):\n",
    "    return int(np.average(image_array, axis=None))"
   ]
  },
  {
   "cell_type": "code",
   "execution_count": 38,
   "metadata": {},
   "outputs": [],
   "source": [
    "def convert_to_gs(image_array):\n",
    "    return np.mean(np.asarray(image_array), axis=2)"
   ]
  },
  {
   "attachments": {},
   "cell_type": "markdown",
   "metadata": {},
   "source": [
    "Find the image array dimensions"
   ]
  },
  {
   "cell_type": "code",
   "execution_count": 73,
   "metadata": {},
   "outputs": [],
   "source": [
    "def img_to_ascii(image, n_cols, scale):\n",
    "    output_image = []\n",
    "    slice_cordinates = []\n",
    "\n",
    "    image_array = convert_to_gs(np.array(image)).T\n",
    "\n",
    "    W, H = image_array.shape\n",
    "\n",
    "    # tile width\n",
    "    w = W / n_cols\n",
    "\n",
    "    # tile height \n",
    "    h = w / scale\n",
    "\n",
    "    n_rows = int(H/h)\n",
    "\n",
    "    print(f\"cols: {n_cols}, rows: {n_rows}\")\n",
    "    print(f\"tile dims: {w} x {h}\")\n",
    "\n",
    "    for i in range(n_rows):\n",
    "        \n",
    "        # pixel number times tile height\n",
    "        y1 = int(i * h)\n",
    "        \n",
    "        # pixel one to the right\n",
    "        # could probably add a % to handle the wrap around\n",
    "        y2 = int((i+1)*h)\n",
    "\n",
    "        if i == n_rows - 1:\n",
    "            y2 = H\n",
    "\n",
    "        # add an empty string \n",
    "        output_image.append(\"\")\n",
    "\n",
    "        for j in range(n_cols):\n",
    "            # x tile is the pixel number times the tile width\n",
    "            x1 = int(j*w)\n",
    "            x2 = int((j+1)*w)\n",
    "\n",
    "            if i == n_cols - 1:\n",
    "                x2 = W\n",
    "            \n",
    "            # crop the image, get the tile \n",
    "            # could also take a slice of the matrix at these indicies\n",
    "            slice_cordinates.append([(x1, x2), (y1,y2)])\n",
    "            tile = image_array[x1:x2, y1:y2]\n",
    "\n",
    "            # get the average brightness\n",
    "            avg = avg_brightness(tile)\n",
    "\n",
    "            # look up ascii char\n",
    "            gsval = gscale1[int((avg*69)/255)]\n",
    "\n",
    "            # append the char \n",
    "            output_image[i] += gsval\n",
    "    \n",
    "    print(np.array(slice_cordinates))\n",
    "    return output_image\n"
   ]
  },
  {
   "cell_type": "code",
   "execution_count": 74,
   "metadata": {},
   "outputs": [],
   "source": [
    "def main(image, n_cols, scale):\n",
    "    output_image = img_to_ascii(image, n_cols, scale)\n",
    "    \n",
    "    print('generating ASCII art...')\n",
    "    \n",
    "    # convert image to ascii txt\n",
    "    outFile = 'out.txt'\n",
    " \n",
    "    # open file\n",
    "    f = open(outFile, 'w')\n",
    " \n",
    "    # write to file\n",
    "    for row in output_image:\n",
    "        f.write(row + '\\n')\n",
    " \n",
    "    # cleanup\n",
    "    f.close()\n",
    "    print(\"ASCII art written to %s\" % outFile)"
   ]
  },
  {
   "cell_type": "code",
   "execution_count": 75,
   "metadata": {},
   "outputs": [
    {
     "name": "stdout",
     "output_type": "stream",
     "text": [
      "cols: 200, rows: 91\n",
      "tile dims: 4.395 x 10.220930232558139\n",
      "[[[  0   4]\n",
      "  [  0  10]]\n",
      "\n",
      " [[  4   8]\n",
      "  [  0  10]]\n",
      "\n",
      " [[  8  13]\n",
      "  [  0  10]]\n",
      "\n",
      " ...\n",
      "\n",
      " [[865 870]\n",
      "  [919 933]]\n",
      "\n",
      " [[870 874]\n",
      "  [919 933]]\n",
      "\n",
      " [[874 878]\n",
      "  [919 933]]]\n",
      "generating ASCII art...\n",
      "ASCII art written to out.txt\n"
     ]
    }
   ],
   "source": [
    "main(images[2], n_cols=200, scale=0.43)"
   ]
  },
  {
   "cell_type": "code",
   "execution_count": null,
   "metadata": {},
   "outputs": [],
   "source": []
  }
 ],
 "metadata": {
  "kernelspec": {
   "display_name": "cs109b",
   "language": "python",
   "name": "python3"
  },
  "language_info": {
   "codemirror_mode": {
    "name": "ipython",
    "version": 3
   },
   "file_extension": ".py",
   "mimetype": "text/x-python",
   "name": "python",
   "nbconvert_exporter": "python",
   "pygments_lexer": "ipython3",
   "version": "3.9.9"
  },
  "orig_nbformat": 4
 },
 "nbformat": 4,
 "nbformat_minor": 2
}
